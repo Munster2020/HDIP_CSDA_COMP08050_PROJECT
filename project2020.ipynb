{
 "cells": [
  {
   "cell_type": "markdown",
   "metadata": {},
   "source": [
    "![](GMIT_Logo.jpg)\n",
    "\n",
    "# Higher Diploma in Science in Computing (Data Analytics)\n",
    "#### Programme Module: Programming for Data Analysis (COMP08050)\n",
    "---\n",
    "### Project 2020"
   ]
  },
  {
   "cell_type": "markdown",
   "metadata": {},
   "source": [
    "### References"
   ]
  },
  {
   "cell_type": "markdown",
   "metadata": {},
   "source": [
    "[1] Romani, E., 2020. *How To Generate Pseudo-Random Datasets In Python: Start From Scratch With Numpy & Faker*. [online] Medium. Available at: <https://towardsdatascience.com/how-to-generate-pseudo-random-datasets-in-python-start-from-scratch-with-numpy-faker-c5661e3bc58b> [Accessed 25 November 2020]."
   ]
  },
  {
   "cell_type": "markdown",
   "metadata": {},
   "source": [
    "[2] The Alan Turing Institute. 2020. *Interpreting Large Datasets Using Simulation*. [online] Available at: <https://www.turing.ac.uk/research/research-projects/interpreting-large-datasets-using-simulation> [Accessed 25 November 2020]."
   ]
  },
  {
   "cell_type": "markdown",
   "metadata": {},
   "source": [
    "[3] Zief0002.github.io. 2020. *Monte Carlo Simulation | Statistical Thinking: A Simulation Approach To Modeling Uncertainty*. [online] Available at: <https://zief0002.github.io/statistical-thinking/monte-carlo-simulation.html> [Accessed 25 November 2020]."
   ]
  },
  {
   "cell_type": "markdown",
   "metadata": {},
   "source": [
    "[4] Obi Tayo, B., 2019. *Machine Learning Model For Stochastic Processes*. [online] Medium. Available at: <https://medium.com/towards-artificial-intelligence/machine-learning-model-for-stochastic-processes-c65a96f0b8c5> [Accessed 25 November 2020]."
   ]
  },
  {
   "cell_type": "markdown",
   "metadata": {},
   "source": [
    "[5] Obi Tayo, B., 2019. *Building A Machine Learning Model When Data isn’t Available*. [online] Medium. Available at: <https://medium.com/towards-artificial-intelligence/building-a-machine-learning-model-when-data-isnt-available-fce8d20f0fd0> [Accessed 24 November 2020]."
   ]
  },
  {
   "cell_type": "markdown",
   "metadata": {},
   "source": [
    "[6] appliedAI. 2020. *Synthetic Data Generation: Techniques, Best Practices & Tools*. [online] Available at: <https://research.aimultiple.com/synthetic-data-generation/> [Accessed 25 November 2020]."
   ]
  },
  {
   "cell_type": "markdown",
   "metadata": {},
   "source": [
    "[7] GitHub. 2018. *Theodi/Synthetic-Data-Tutorial*. [online] Available at: <https://github.com/theodi/synthetic-data-tutorial> [Accessed 24 November 2020]."
   ]
  },
  {
   "cell_type": "code",
   "execution_count": null,
   "metadata": {},
   "outputs": [],
   "source": []
  }
 ],
 "metadata": {
  "kernelspec": {
   "display_name": "Python 3",
   "language": "python",
   "name": "python3"
  },
  "language_info": {
   "codemirror_mode": {
    "name": "ipython",
    "version": 3
   },
   "file_extension": ".py",
   "mimetype": "text/x-python",
   "name": "python",
   "nbconvert_exporter": "python",
   "pygments_lexer": "ipython3",
   "version": "3.8.3"
  },
  "toc": {
   "base_numbering": 1,
   "nav_menu": {},
   "number_sections": false,
   "sideBar": true,
   "skip_h1_title": false,
   "title_cell": "Table of Contents",
   "title_sidebar": "Contents",
   "toc_cell": false,
   "toc_position": {},
   "toc_section_display": true,
   "toc_window_display": false
  }
 },
 "nbformat": 4,
 "nbformat_minor": 4
}
